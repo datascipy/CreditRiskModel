{
 "cells": [
  {
   "cell_type": "code",
   "execution_count": 1,
   "metadata": {
    "collapsed": true
   },
   "outputs": [],
   "source": [
    "#import the necessary modules\n",
    "import pandas as pd\n",
    "import numpy as np"
   ]
  },
  {
   "cell_type": "code",
   "execution_count": 2,
   "metadata": {
    "collapsed": true
   },
   "outputs": [],
   "source": [
    "# reading the train and test files for both the enquiry and account\n",
    "acc_train = pd.read_csv(r'/Users/varsha/Downloads/test data/raw_account_70_new.csv',low_memory=False)\n",
    "acc_test = pd.read_csv(r'/Users/varsha/Downloads/test data/raw_account_30_new.csv',low_memory=False)\n",
    "enq_train = pd.read_csv(r'/Users/varsha/Downloads/test data/raw_enquiry_70_new.csv',low_memory=False)\n",
    "enq_test = pd.read_csv(r'/Users/varsha/Downloads/test data/raw_enquiry_30_new.csv',low_memory=False)"
   ]
  },
  {
   "cell_type": "code",
   "execution_count": 3,
   "metadata": {
    "collapsed": true
   },
   "outputs": [],
   "source": [
    "# concat the train and test files\n",
    "Ac_df = pd.concat([acc_train,acc_test]).reset_index(drop=True)\n",
    "En_df = pd.concat([enq_train, enq_test]).reset_index(drop=True)"
   ]
  },
  {
   "cell_type": "markdown",
   "metadata": {},
   "source": [
    "## Enquiry Feature Engineering"
   ]
  },
  {
   "cell_type": "code",
   "execution_count": 4,
   "metadata": {
    "scrolled": true
   },
   "outputs": [
    {
     "name": "stderr",
     "output_type": "stream",
     "text": [
      "/anaconda/lib/python3.6/site-packages/ipykernel_launcher.py:9: SettingWithCopyWarning: \n",
      "A value is trying to be set on a copy of a slice from a DataFrame\n",
      "\n",
      "See the caveats in the documentation: http://pandas.pydata.org/pandas-docs/stable/indexing.html#indexing-view-versus-copy\n",
      "  if __name__ == '__main__':\n"
     ]
    }
   ],
   "source": [
    "# converting the data in machine readable form for Enquiry\n",
    "En_df['dt_opened']=pd.to_datetime(En_df['dt_opened']) # converted into datetime\n",
    "En_df['enquiry_dt']=En_df['enquiry_dt'].fillna('01-Jan-2016') # fill missing date\n",
    "En_df['enquiry_dt'] = pd.to_datetime(En_df['enquiry_dt']) # converted into datetime\n",
    "En_df['upload_dt']=En_df['upload_dt'].fillna('01-Jan-2016') # fill missing date\n",
    "En_df['upload_dt'] = pd.to_datetime(En_df['upload_dt']) #converted into datetime\n",
    "En_df['days'] = En_df['upload_dt'].sub(En_df['enquiry_dt'], axis=0) # subtracted two date\n",
    "En_df['days']= En_df['days'].astype('timedelta64[D]') #converted into datetime\n",
    "En_df['days'][En_df['days'] == 0.0] = 10000\n",
    "En_df['365_days'] = (En_df['days']<=365)\n",
    "En_df['90_days'] = (En_df['days']<=90)"
   ]
  },
  {
   "cell_type": "code",
   "execution_count": 5,
   "metadata": {},
   "outputs": [
    {
     "name": "stderr",
     "output_type": "stream",
     "text": [
      "/anaconda/lib/python3.6/site-packages/ipykernel_launcher.py:6: SettingWithCopyWarning: \n",
      "A value is trying to be set on a copy of a slice from a DataFrame\n",
      "\n",
      "See the caveats in the documentation: http://pandas.pydata.org/pandas-docs/stable/indexing.html#indexing-view-versus-copy\n",
      "  \n"
     ]
    }
   ],
   "source": [
    "#fill missing values\n",
    "En_df['enq_purpose']=En_df['enq_purpose'].fillna(0) \n",
    "En_df['enq_amt']=En_df['enq_amt'].fillna(0)\n",
    "En_df['openDays'] = En_df['dt_opened'].sub(En_df['enquiry_dt'], axis=0) #calculate the open days\n",
    "En_df['openDays']= En_df['openDays'].astype('timedelta64[D]') #converted into datetime\n",
    "En_df['openDays'][En_df['openDays'] < 0.0] = 0.0\n",
    "\n"
   ]
  },
  {
   "cell_type": "code",
   "execution_count": 6,
   "metadata": {
    "collapsed": true
   },
   "outputs": [],
   "source": [
    "En_df_train = En_df[0:len(enq_train)] #spiltting the train set\n",
    "En_df_test = En_df[len(enq_train):len(En_df)] #splitting the test set\n",
    "\n"
   ]
  },
  {
   "cell_type": "code",
   "execution_count": 7,
   "metadata": {
    "collapsed": true
   },
   "outputs": [],
   "source": [
    "aggregations = {\n",
    "    '365_days':'sum',\n",
    "    '90_days':'sum',\n",
    "    'openDays': lambda x : sum(x)/len(x),\n",
    "    'enq_amt':'sum'\n",
    "}\n",
    "\n"
   ]
  },
  {
   "cell_type": "code",
   "execution_count": 8,
   "metadata": {},
   "outputs": [
    {
     "name": "stdout",
     "output_type": "stream",
     "text": [
      "<class 'pandas.core.frame.DataFrame'>\n",
      "Int64Index: 10240 entries, 0 to 10239\n",
      "Data columns (total 5 columns):\n",
      "customer_no    10240 non-null int64\n",
      "365_days       10240 non-null float64\n",
      "90_days        10240 non-null float64\n",
      "openDays       10240 non-null float64\n",
      "enq_amt        10240 non-null float64\n",
      "dtypes: float64(4), int64(1)\n",
      "memory usage: 480.0 KB\n"
     ]
    }
   ],
   "source": [
    "En_df_train = En_df_train.groupby('customer_no', as_index=False).agg(aggregations) \n",
    "En_df_test = En_df_test.groupby('customer_no', as_index=False).agg(aggregations)\n",
    "En_df_test.info()"
   ]
  },
  {
   "cell_type": "code",
   "execution_count": 9,
   "metadata": {
    "collapsed": true
   },
   "outputs": [],
   "source": [
    "En_df_train.to_csv('/Users/prashant/Downloads/test data/trainEnquiry.csv', index=False) #save the train files as cvs\n",
    "En_df_test.to_csv('/Users/prashant/Downloads/test data/testEnquiry.csv', index=False)   #save the train files as cvs"
   ]
  },
  {
   "cell_type": "markdown",
   "metadata": {},
   "source": [
    "## Account File Feature Engineering"
   ]
  },
  {
   "cell_type": "code",
   "execution_count": 10,
   "metadata": {},
   "outputs": [
    {
     "data": {
      "text/html": [
       "<div>\n",
       "<style>\n",
       "    .dataframe thead tr:only-child th {\n",
       "        text-align: right;\n",
       "    }\n",
       "\n",
       "    .dataframe thead th {\n",
       "        text-align: left;\n",
       "    }\n",
       "\n",
       "    .dataframe tbody tr th {\n",
       "        vertical-align: top;\n",
       "    }\n",
       "</style>\n",
       "<table border=\"1\" class=\"dataframe\">\n",
       "  <thead>\n",
       "    <tr style=\"text-align: right;\">\n",
       "      <th></th>\n",
       "      <th>dt_opened</th>\n",
       "      <th>customer_no</th>\n",
       "      <th>upload_dt</th>\n",
       "      <th>acct_type</th>\n",
       "      <th>owner_indic</th>\n",
       "      <th>opened_dt</th>\n",
       "      <th>last_paymt_dt</th>\n",
       "      <th>closed_dt</th>\n",
       "      <th>reporting_dt</th>\n",
       "      <th>high_credit_amt</th>\n",
       "      <th>...</th>\n",
       "      <th>amt_past_due</th>\n",
       "      <th>paymenthistory1</th>\n",
       "      <th>paymenthistory2</th>\n",
       "      <th>paymt_str_dt</th>\n",
       "      <th>paymt_end_dt</th>\n",
       "      <th>creditlimit</th>\n",
       "      <th>cashlimit</th>\n",
       "      <th>rateofinterest</th>\n",
       "      <th>paymentfrequency</th>\n",
       "      <th>actualpaymentamount</th>\n",
       "    </tr>\n",
       "  </thead>\n",
       "  <tbody>\n",
       "    <tr>\n",
       "      <th>0</th>\n",
       "      <td>10-Nov-15</td>\n",
       "      <td>12265</td>\n",
       "      <td>20-Oct-15</td>\n",
       "      <td>6</td>\n",
       "      <td>1</td>\n",
       "      <td>09-Jun-13</td>\n",
       "      <td>30-Jun-14</td>\n",
       "      <td>05-Jul-14</td>\n",
       "      <td>30-Sep-15</td>\n",
       "      <td>20900.0</td>\n",
       "      <td>...</td>\n",
       "      <td>NaN</td>\n",
       "      <td>\"\"\"STDSTDSTDXXXXXXXXXXXXXXXSTDXXXXXXXXXXXXXXXS...</td>\n",
       "      <td>NaN</td>\n",
       "      <td>01-Sep-15</td>\n",
       "      <td>01-Jul-14</td>\n",
       "      <td>NaN</td>\n",
       "      <td>NaN</td>\n",
       "      <td>NaN</td>\n",
       "      <td>NaN</td>\n",
       "      <td>NaN</td>\n",
       "    </tr>\n",
       "    <tr>\n",
       "      <th>1</th>\n",
       "      <td>10-Nov-15</td>\n",
       "      <td>12265</td>\n",
       "      <td>20-Oct-15</td>\n",
       "      <td>10</td>\n",
       "      <td>1</td>\n",
       "      <td>25-May-12</td>\n",
       "      <td>06-Sep-15</td>\n",
       "      <td>NaN</td>\n",
       "      <td>03-Oct-15</td>\n",
       "      <td>16201.0</td>\n",
       "      <td>...</td>\n",
       "      <td>NaN</td>\n",
       "      <td>\"\"\"0000000000000000000000000000000000000000000...</td>\n",
       "      <td>\"\"\"000000000000000000000000000XXX0000000000000...</td>\n",
       "      <td>01-Oct-15</td>\n",
       "      <td>01-Nov-12</td>\n",
       "      <td>14000.0</td>\n",
       "      <td>1400.0</td>\n",
       "      <td>NaN</td>\n",
       "      <td>3.0</td>\n",
       "      <td>5603.0</td>\n",
       "    </tr>\n",
       "    <tr>\n",
       "      <th>2</th>\n",
       "      <td>10-Nov-15</td>\n",
       "      <td>12265</td>\n",
       "      <td>20-Oct-15</td>\n",
       "      <td>10</td>\n",
       "      <td>1</td>\n",
       "      <td>22-Mar-12</td>\n",
       "      <td>31-Aug-15</td>\n",
       "      <td>NaN</td>\n",
       "      <td>30-Sep-15</td>\n",
       "      <td>41028.0</td>\n",
       "      <td>...</td>\n",
       "      <td>NaN</td>\n",
       "      <td>\"\"\"0000000000000000000000000000000000000000000...</td>\n",
       "      <td>\"\"\"0000000000000000000000000000000000000000000...</td>\n",
       "      <td>01-Sep-15</td>\n",
       "      <td>01-Oct-12</td>\n",
       "      <td>NaN</td>\n",
       "      <td>NaN</td>\n",
       "      <td>NaN</td>\n",
       "      <td>NaN</td>\n",
       "      <td>NaN</td>\n",
       "    </tr>\n",
       "    <tr>\n",
       "      <th>3</th>\n",
       "      <td>20-Jul-15</td>\n",
       "      <td>15606</td>\n",
       "      <td>09-Jul-15</td>\n",
       "      <td>10</td>\n",
       "      <td>1</td>\n",
       "      <td>13-Jan-06</td>\n",
       "      <td>NaN</td>\n",
       "      <td>26-Jul-07</td>\n",
       "      <td>31-Jan-09</td>\n",
       "      <td>93473.0</td>\n",
       "      <td>...</td>\n",
       "      <td>NaN</td>\n",
       "      <td>\"\"\"1200900600600600300000000000000000000000000...</td>\n",
       "      <td>NaN</td>\n",
       "      <td>01-Jul-07</td>\n",
       "      <td>01-Feb-06</td>\n",
       "      <td>NaN</td>\n",
       "      <td>NaN</td>\n",
       "      <td>NaN</td>\n",
       "      <td>NaN</td>\n",
       "      <td>NaN</td>\n",
       "    </tr>\n",
       "    <tr>\n",
       "      <th>4</th>\n",
       "      <td>20-Jul-15</td>\n",
       "      <td>15606</td>\n",
       "      <td>09-Jul-15</td>\n",
       "      <td>6</td>\n",
       "      <td>1</td>\n",
       "      <td>18-Jan-15</td>\n",
       "      <td>05-May-15</td>\n",
       "      <td>NaN</td>\n",
       "      <td>31-May-15</td>\n",
       "      <td>20250.0</td>\n",
       "      <td>...</td>\n",
       "      <td>NaN</td>\n",
       "      <td>\"\"\"000000000000000\"\"\"</td>\n",
       "      <td>NaN</td>\n",
       "      <td>01-May-15</td>\n",
       "      <td>01-Jan-15</td>\n",
       "      <td>NaN</td>\n",
       "      <td>NaN</td>\n",
       "      <td>NaN</td>\n",
       "      <td>NaN</td>\n",
       "      <td>NaN</td>\n",
       "    </tr>\n",
       "  </tbody>\n",
       "</table>\n",
       "<p>5 rows × 21 columns</p>\n",
       "</div>"
      ],
      "text/plain": [
       "   dt_opened  customer_no  upload_dt  acct_type  owner_indic  opened_dt  \\\n",
       "0  10-Nov-15        12265  20-Oct-15          6            1  09-Jun-13   \n",
       "1  10-Nov-15        12265  20-Oct-15         10            1  25-May-12   \n",
       "2  10-Nov-15        12265  20-Oct-15         10            1  22-Mar-12   \n",
       "3  20-Jul-15        15606  09-Jul-15         10            1  13-Jan-06   \n",
       "4  20-Jul-15        15606  09-Jul-15          6            1  18-Jan-15   \n",
       "\n",
       "  last_paymt_dt  closed_dt reporting_dt  high_credit_amt         ...           \\\n",
       "0     30-Jun-14  05-Jul-14    30-Sep-15          20900.0         ...            \n",
       "1     06-Sep-15        NaN    03-Oct-15          16201.0         ...            \n",
       "2     31-Aug-15        NaN    30-Sep-15          41028.0         ...            \n",
       "3           NaN  26-Jul-07    31-Jan-09          93473.0         ...            \n",
       "4     05-May-15        NaN    31-May-15          20250.0         ...            \n",
       "\n",
       "   amt_past_due                                    paymenthistory1  \\\n",
       "0           NaN  \"\"\"STDSTDSTDXXXXXXXXXXXXXXXSTDXXXXXXXXXXXXXXXS...   \n",
       "1           NaN  \"\"\"0000000000000000000000000000000000000000000...   \n",
       "2           NaN  \"\"\"0000000000000000000000000000000000000000000...   \n",
       "3           NaN  \"\"\"1200900600600600300000000000000000000000000...   \n",
       "4           NaN                              \"\"\"000000000000000\"\"\"   \n",
       "\n",
       "                                     paymenthistory2 paymt_str_dt  \\\n",
       "0                                                NaN    01-Sep-15   \n",
       "1  \"\"\"000000000000000000000000000XXX0000000000000...    01-Oct-15   \n",
       "2  \"\"\"0000000000000000000000000000000000000000000...    01-Sep-15   \n",
       "3                                                NaN    01-Jul-07   \n",
       "4                                                NaN    01-May-15   \n",
       "\n",
       "  paymt_end_dt creditlimit  cashlimit  rateofinterest paymentfrequency  \\\n",
       "0    01-Jul-14         NaN        NaN             NaN              NaN   \n",
       "1    01-Nov-12     14000.0     1400.0             NaN              3.0   \n",
       "2    01-Oct-12         NaN        NaN             NaN              NaN   \n",
       "3    01-Feb-06         NaN        NaN             NaN              NaN   \n",
       "4    01-Jan-15         NaN        NaN             NaN              NaN   \n",
       "\n",
       "   actualpaymentamount  \n",
       "0                  NaN  \n",
       "1               5603.0  \n",
       "2                  NaN  \n",
       "3                  NaN  \n",
       "4                  NaN  \n",
       "\n",
       "[5 rows x 21 columns]"
      ]
     },
     "execution_count": 10,
     "metadata": {},
     "output_type": "execute_result"
    }
   ],
   "source": [
    "Ac_df.head()"
   ]
  },
  {
   "cell_type": "code",
   "execution_count": 11,
   "metadata": {
    "collapsed": true
   },
   "outputs": [],
   "source": [
    "Ac_df['last_paymt_dt']=pd.to_datetime(Ac_df['last_paymt_dt']) #converted into datetime\n",
    "Ac_df['opened_dt']=pd.to_datetime(Ac_df['opened_dt'])     #converted into datetime\n",
    "Ac_df['openDays'] = Ac_df['last_paymt_dt'].sub(Ac_df['opened_dt'], axis=0) \n",
    "Ac_df['openDays']= Ac_df['openDays'].astype('timedelta64[D]')\n",
    "# assigning the variable to new variable for further calculation\n",
    "Ac_df['total_Days'] = Ac_df['openDays'] \n",
    "Ac_df['mean_Days'] = Ac_df['openDays']\n",
    "Ac_df['total_creditlimit'] = Ac_df['creditlimit']\n",
    "Ac_df['mean_creditlimit'] = Ac_df['creditlimit']\n",
    "Ac_df['total_currentlimit'] = Ac_df['cur_balance_amt']\n",
    "Ac_df['mean_currentlimit'] = Ac_df['cur_balance_amt']\n",
    "# replacing missing value of creditlimit with high_credit_amt\n",
    "Ac_df['creditlimit']= Ac_df['creditlimit'].fillna(Ac_df['high_credit_amt'])\n",
    "# replacing missing value\n",
    "fill_Col = ['paymentfrequency','cashlimit','amt_past_due','openDays',\"total_creditlimit\",\"rateofinterest\",\"mean_creditlimit\",\"total_Days\",\"mean_Days\"]\n",
    "\n"
   ]
  },
  {
   "cell_type": "code",
   "execution_count": 12,
   "metadata": {},
   "outputs": [
    {
     "data": {
      "text/plain": [
       "Index(['dt_opened', 'customer_no', 'upload_dt', 'acct_type', 'owner_indic',\n",
       "       'opened_dt', 'last_paymt_dt', 'closed_dt', 'reporting_dt',\n",
       "       'high_credit_amt', 'cur_balance_amt', 'amt_past_due', 'paymenthistory1',\n",
       "       'paymenthistory2', 'paymt_str_dt', 'paymt_end_dt', 'creditlimit',\n",
       "       'cashlimit', 'rateofinterest', 'paymentfrequency',\n",
       "       'actualpaymentamount', 'openDays', 'total_Days', 'mean_Days',\n",
       "       'total_creditlimit', 'mean_creditlimit', 'total_currentlimit',\n",
       "       'mean_currentlimit'],\n",
       "      dtype='object')"
      ]
     },
     "execution_count": 12,
     "metadata": {},
     "output_type": "execute_result"
    }
   ],
   "source": [
    "Ac_df.columns"
   ]
  },
  {
   "cell_type": "code",
   "execution_count": 13,
   "metadata": {
    "collapsed": true
   },
   "outputs": [],
   "source": [
    "#fill missing values\n",
    "for i in fill_Col:\n",
    "    Ac_df[i] = Ac_df[i].fillna(0)"
   ]
  },
  {
   "cell_type": "code",
   "execution_count": 14,
   "metadata": {
    "collapsed": true
   },
   "outputs": [],
   "source": [
    "# filling missing value of payment history\n",
    "Ac_df[\"paymenthistory1\"] = Ac_df['paymenthistory1'].fillna(\"XXX\")\n",
    "Ac_df[\"paymenthistory2\"] = Ac_df['paymenthistory2'].fillna(\"XXX\")\n",
    "# payment boolean initialize,least_30dpd,max_30dpd\n",
    "Ac_df['paymentBoolean'] = True\n",
    "Ac_df['least_30dpd'] = 0.0\n",
    "Ac_df['max_30dpd'] = 0.0\n",
    "#cleaning the payment historys\n",
    "n =3\n",
    "acList = ['STD','XXX','SMA','SUB','DBT','LSS','\"\"\"','\"\"\"','ppp','iit']\n",
    "acList2 = ['\"\"\"','\"\"\"','ppp','iit']\n",
    "replaceList = ['STD','XXX','SMA','SUB','DBT','LSS']"
   ]
  },
  {
   "cell_type": "code",
   "execution_count": 15,
   "metadata": {},
   "outputs": [
    {
     "name": "stderr",
     "output_type": "stream",
     "text": [
      "/anaconda/lib/python3.6/site-packages/ipykernel_launcher.py:10: DeprecationWarning: \n",
      ".ix is deprecated. Please use\n",
      ".loc for label based indexing or\n",
      ".iloc for positional indexing\n",
      "\n",
      "See the documentation here:\n",
      "http://pandas.pydata.org/pandas-docs/stable/indexing.html#deprecate_ix\n",
      "  # Remove the CWD from sys.path while we load stuff.\n"
     ]
    }
   ],
   "source": [
    "#checking account in 0-29 dpd\n",
    "string=\"\"\n",
    "Output=\"\"\n",
    "output=\"\"\n",
    "for row in range(0,len(Ac_df)):\n",
    "    string=Ac_df.iloc[row]['paymenthistory1'] + Ac_df.iloc[row]['paymenthistory2']\n",
    "    output = [string[q:q+n] for q in range(0, len(string), n)]\n",
    "    Output = [item for item in output if item not in acList]\n",
    "    if(len(Output)==0):\n",
    "        Ac_df.ix[row,'paymentBoolean'] = False\n",
    "    else:\n",
    "        int_output = [int(i) for i in Output]\n",
    "        booleanList = []\n",
    "        for j in range(0,len(int_output)):\n",
    "            if(int_output[j]>=30):\n",
    "                booleanList.append(True)\n",
    "            else:\n",
    "                booleanList.append(False)\n",
    "        if(True in booleanList):\n",
    "            Ac_df.ix[row, 'paymentBoolean'] = False\n",
    "        else:\n",
    "            Ac_df.ix[row, 'paymentBoolean'] = True\n",
    "\n"
   ]
  },
  {
   "cell_type": "code",
   "execution_count": 16,
   "metadata": {
    "collapsed": true
   },
   "outputs": [],
   "source": [
    "# loop for calculating first and last 30+ dpd month\n",
    "for row3 in range(0, len(Ac_df)):\n",
    "    string3 = Ac_df.iloc[row3]['paymenthistory1'] + Ac_df.iloc[row3]['paymenthistory2']\n",
    "    output3 = [string3[q3:q3 + n] for q3 in range(0, len(string3), n)]\n",
    "    Ac_dfOutput3 = [item3 for item3 in output3 if item3 not in acList2]\n",
    "    for z3, i3 in enumerate(Ac_dfOutput3):\n",
    "        if i3 in replaceList:\n",
    "            Ac_dfOutput3[z3] = '000'\n",
    "    Ac_dfOutput3 = Ac_dfOutput3[::-1]\n",
    "    if (len(Ac_dfOutput3) == 0):\n",
    "        Ac_df.ix[row3, 'least_30dpd'] = 0.0\n",
    "    else:\n",
    "        int_output3 = [int(i4) for i4 in Ac_dfOutput3]\n",
    "    indexList = []\n",
    "    for index, value in enumerate(int_output3):\n",
    "        if (value >= 30):\n",
    "            indexList.append(index)\n",
    "\n",
    "    if (len(indexList) == 0):\n",
    "        Ac_df.ix[row3, 'least_30dpd'] = 0.0\n",
    "    else:\n",
    "        Ac_df.ix[row3, 'least_30dpd'] = indexList[0] + 1\n",
    "        Ac_df.ix[row3,'max_30dpd'] = indexList[len(indexList)-1]+1"
   ]
  },
  {
   "cell_type": "code",
   "execution_count": 17,
   "metadata": {},
   "outputs": [
    {
     "data": {
      "text/html": [
       "<div>\n",
       "<style>\n",
       "    .dataframe thead tr:only-child th {\n",
       "        text-align: right;\n",
       "    }\n",
       "\n",
       "    .dataframe thead th {\n",
       "        text-align: left;\n",
       "    }\n",
       "\n",
       "    .dataframe tbody tr th {\n",
       "        vertical-align: top;\n",
       "    }\n",
       "</style>\n",
       "<table border=\"1\" class=\"dataframe\">\n",
       "  <thead>\n",
       "    <tr style=\"text-align: right;\">\n",
       "      <th></th>\n",
       "      <th>dt_opened</th>\n",
       "      <th>customer_no</th>\n",
       "      <th>upload_dt</th>\n",
       "      <th>acct_type</th>\n",
       "      <th>owner_indic</th>\n",
       "      <th>opened_dt</th>\n",
       "      <th>last_paymt_dt</th>\n",
       "      <th>closed_dt</th>\n",
       "      <th>reporting_dt</th>\n",
       "      <th>high_credit_amt</th>\n",
       "      <th>...</th>\n",
       "      <th>total_Days</th>\n",
       "      <th>mean_Days</th>\n",
       "      <th>total_creditlimit</th>\n",
       "      <th>mean_creditlimit</th>\n",
       "      <th>total_currentlimit</th>\n",
       "      <th>mean_currentlimit</th>\n",
       "      <th>paymentBoolean</th>\n",
       "      <th>least_30dpd</th>\n",
       "      <th>max_30dpd</th>\n",
       "      <th>monthlength</th>\n",
       "    </tr>\n",
       "  </thead>\n",
       "  <tbody>\n",
       "    <tr>\n",
       "      <th>0</th>\n",
       "      <td>10-Nov-15</td>\n",
       "      <td>12265</td>\n",
       "      <td>20-Oct-15</td>\n",
       "      <td>6</td>\n",
       "      <td>1</td>\n",
       "      <td>2013-06-09</td>\n",
       "      <td>2014-06-30</td>\n",
       "      <td>05-Jul-14</td>\n",
       "      <td>30-Sep-15</td>\n",
       "      <td>20900.0</td>\n",
       "      <td>...</td>\n",
       "      <td>386.0</td>\n",
       "      <td>386.0</td>\n",
       "      <td>0.0</td>\n",
       "      <td>0.0</td>\n",
       "      <td>0</td>\n",
       "      <td>0</td>\n",
       "      <td>False</td>\n",
       "      <td>0.0</td>\n",
       "      <td>0.0</td>\n",
       "      <td>42</td>\n",
       "    </tr>\n",
       "    <tr>\n",
       "      <th>1</th>\n",
       "      <td>10-Nov-15</td>\n",
       "      <td>12265</td>\n",
       "      <td>20-Oct-15</td>\n",
       "      <td>10</td>\n",
       "      <td>1</td>\n",
       "      <td>2012-05-25</td>\n",
       "      <td>2015-09-06</td>\n",
       "      <td>NaN</td>\n",
       "      <td>03-Oct-15</td>\n",
       "      <td>16201.0</td>\n",
       "      <td>...</td>\n",
       "      <td>1199.0</td>\n",
       "      <td>1199.0</td>\n",
       "      <td>14000.0</td>\n",
       "      <td>14000.0</td>\n",
       "      <td>10390</td>\n",
       "      <td>10390</td>\n",
       "      <td>True</td>\n",
       "      <td>0.0</td>\n",
       "      <td>0.0</td>\n",
       "      <td>108</td>\n",
       "    </tr>\n",
       "    <tr>\n",
       "      <th>2</th>\n",
       "      <td>10-Nov-15</td>\n",
       "      <td>12265</td>\n",
       "      <td>20-Oct-15</td>\n",
       "      <td>10</td>\n",
       "      <td>1</td>\n",
       "      <td>2012-03-22</td>\n",
       "      <td>2015-08-31</td>\n",
       "      <td>NaN</td>\n",
       "      <td>30-Sep-15</td>\n",
       "      <td>41028.0</td>\n",
       "      <td>...</td>\n",
       "      <td>1257.0</td>\n",
       "      <td>1257.0</td>\n",
       "      <td>0.0</td>\n",
       "      <td>0.0</td>\n",
       "      <td>34420</td>\n",
       "      <td>34420</td>\n",
       "      <td>True</td>\n",
       "      <td>0.0</td>\n",
       "      <td>0.0</td>\n",
       "      <td>108</td>\n",
       "    </tr>\n",
       "    <tr>\n",
       "      <th>3</th>\n",
       "      <td>20-Jul-15</td>\n",
       "      <td>15606</td>\n",
       "      <td>09-Jul-15</td>\n",
       "      <td>10</td>\n",
       "      <td>1</td>\n",
       "      <td>2006-01-13</td>\n",
       "      <td>NaT</td>\n",
       "      <td>26-Jul-07</td>\n",
       "      <td>31-Jan-09</td>\n",
       "      <td>93473.0</td>\n",
       "      <td>...</td>\n",
       "      <td>0.0</td>\n",
       "      <td>0.0</td>\n",
       "      <td>0.0</td>\n",
       "      <td>0.0</td>\n",
       "      <td>0</td>\n",
       "      <td>0</td>\n",
       "      <td>False</td>\n",
       "      <td>14.0</td>\n",
       "      <td>19.0</td>\n",
       "      <td>51</td>\n",
       "    </tr>\n",
       "    <tr>\n",
       "      <th>4</th>\n",
       "      <td>20-Jul-15</td>\n",
       "      <td>15606</td>\n",
       "      <td>09-Jul-15</td>\n",
       "      <td>6</td>\n",
       "      <td>1</td>\n",
       "      <td>2015-01-18</td>\n",
       "      <td>2015-05-05</td>\n",
       "      <td>NaN</td>\n",
       "      <td>31-May-15</td>\n",
       "      <td>20250.0</td>\n",
       "      <td>...</td>\n",
       "      <td>107.0</td>\n",
       "      <td>107.0</td>\n",
       "      <td>0.0</td>\n",
       "      <td>0.0</td>\n",
       "      <td>13500</td>\n",
       "      <td>13500</td>\n",
       "      <td>True</td>\n",
       "      <td>0.0</td>\n",
       "      <td>0.0</td>\n",
       "      <td>12</td>\n",
       "    </tr>\n",
       "  </tbody>\n",
       "</table>\n",
       "<p>5 rows × 32 columns</p>\n",
       "</div>"
      ],
      "text/plain": [
       "   dt_opened  customer_no  upload_dt  acct_type  owner_indic  opened_dt  \\\n",
       "0  10-Nov-15        12265  20-Oct-15          6            1 2013-06-09   \n",
       "1  10-Nov-15        12265  20-Oct-15         10            1 2012-05-25   \n",
       "2  10-Nov-15        12265  20-Oct-15         10            1 2012-03-22   \n",
       "3  20-Jul-15        15606  09-Jul-15         10            1 2006-01-13   \n",
       "4  20-Jul-15        15606  09-Jul-15          6            1 2015-01-18   \n",
       "\n",
       "  last_paymt_dt  closed_dt reporting_dt  high_credit_amt     ...       \\\n",
       "0    2014-06-30  05-Jul-14    30-Sep-15          20900.0     ...        \n",
       "1    2015-09-06        NaN    03-Oct-15          16201.0     ...        \n",
       "2    2015-08-31        NaN    30-Sep-15          41028.0     ...        \n",
       "3           NaT  26-Jul-07    31-Jan-09          93473.0     ...        \n",
       "4    2015-05-05        NaN    31-May-15          20250.0     ...        \n",
       "\n",
       "   total_Days  mean_Days  total_creditlimit  mean_creditlimit  \\\n",
       "0       386.0      386.0                0.0               0.0   \n",
       "1      1199.0     1199.0            14000.0           14000.0   \n",
       "2      1257.0     1257.0                0.0               0.0   \n",
       "3         0.0        0.0                0.0               0.0   \n",
       "4       107.0      107.0                0.0               0.0   \n",
       "\n",
       "  total_currentlimit mean_currentlimit  paymentBoolean  least_30dpd max_30dpd  \\\n",
       "0                  0                 0           False          0.0       0.0   \n",
       "1              10390             10390            True          0.0       0.0   \n",
       "2              34420             34420            True          0.0       0.0   \n",
       "3                  0                 0           False         14.0      19.0   \n",
       "4              13500             13500            True          0.0       0.0   \n",
       "\n",
       "   monthlength  \n",
       "0           42  \n",
       "1          108  \n",
       "2          108  \n",
       "3           51  \n",
       "4           12  \n",
       "\n",
       "[5 rows x 32 columns]"
      ]
     },
     "execution_count": 17,
     "metadata": {},
     "output_type": "execute_result"
    }
   ],
   "source": [
    "# payment history month length\n",
    "Ac_df['paymenthistory1'] =Ac_df['paymenthistory1'].apply(len) -6\n",
    "Ac_df['paymenthistory2'] = Ac_df['paymenthistory2'].apply(len) -6\n",
    "Ac_df['monthlength'] = Ac_df['paymenthistory1']+ Ac_df['paymenthistory2']\n",
    "# split the train and test\n",
    "Ac_df_train = Ac_df[0:len(acc_train)]\n",
    "Ac_df_test = Ac_df[len(acc_train):len(Ac_df)]\n",
    "Ac_df_train.head()"
   ]
  },
  {
   "cell_type": "code",
   "execution_count": 18,
   "metadata": {
    "collapsed": true
   },
   "outputs": [],
   "source": [
    "#calculations\n",
    "aggregations = {\n",
    "    \"cashlimit\": lambda x : sum(x)/float(len(x)),\n",
    "    \"total_creditlimit\":'sum',\n",
    "    \"total_currentlimit\":'sum',\n",
    "    \"mean_creditlimit\":lambda x : sum(x)/float(len(x)),\n",
    "    \"mean_currentlimit\":lambda x : sum(x)/float(len(x)),\n",
    "    'mean_Days':lambda x : sum(x)/len(x),\n",
    "    'total_Days': lambda x : sum(x),\n",
    "    'monthlength': lambda x: (sum(x)/3)/len(x),\n",
    "    'paymentBoolean':lambda x : sum(x)/len(x),\n",
    "    'least_30dpd': lambda x: max(x),\n",
    "    'max_30dpd':lambda x : max(x)\n",
    "}"
   ]
  },
  {
   "cell_type": "code",
   "execution_count": 19,
   "metadata": {
    "collapsed": true
   },
   "outputs": [],
   "source": [
    "# aggregations on train and test\n",
    "Ac_df_train = Ac_df_train.groupby('customer_no', as_index=False).agg(aggregations)\n",
    "Ac_df_test = Ac_df_test.groupby('customer_no', as_index=False).agg(aggregations)"
   ]
  },
  {
   "cell_type": "code",
   "execution_count": 20,
   "metadata": {},
   "outputs": [
    {
     "name": "stdout",
     "output_type": "stream",
     "text": [
      "<class 'pandas.core.frame.DataFrame'>\n",
      "Int64Index: 10240 entries, 0 to 10239\n",
      "Data columns (total 12 columns):\n",
      "customer_no           10240 non-null int64\n",
      "cashlimit             10240 non-null float64\n",
      "total_creditlimit     10240 non-null float64\n",
      "total_currentlimit    10240 non-null int64\n",
      "mean_creditlimit      10240 non-null float64\n",
      "mean_currentlimit     10240 non-null float64\n",
      "mean_Days             10240 non-null float64\n",
      "total_Days            10240 non-null float64\n",
      "monthlength           10240 non-null float64\n",
      "paymentBoolean        10240 non-null float64\n",
      "least_30dpd           10240 non-null float64\n",
      "max_30dpd             10240 non-null float64\n",
      "dtypes: float64(10), int64(2)\n",
      "memory usage: 1.0 MB\n"
     ]
    }
   ],
   "source": [
    "Ac_df_test.info()\n"
   ]
  },
  {
   "cell_type": "code",
   "execution_count": 21,
   "metadata": {
    "collapsed": true
   },
   "outputs": [],
   "source": [
    "# saving train and test\n",
    "Ac_df_train.to_csv('/Users/varsha/Downloads/test data/trainAccount.csv', index=False)\n",
    "Ac_df_test.to_csv('/Users/varsha/Downloads/test data/testAccount.csv', index=False)\n",
    "\n"
   ]
  }
 ],
 "metadata": {
  "celltoolbar": "Raw Cell Format",
  "kernelspec": {
   "display_name": "Python 3",
   "language": "python",
   "name": "python3"
  },
  "language_info": {
   "codemirror_mode": {
    "name": "ipython",
    "version": 3
   },
   "file_extension": ".py",
   "mimetype": "text/x-python",
   "name": "python",
   "nbconvert_exporter": "python",
   "pygments_lexer": "ipython3",
   "version": "3.6.1"
  }
 },
 "nbformat": 4,
 "nbformat_minor": 2
}
