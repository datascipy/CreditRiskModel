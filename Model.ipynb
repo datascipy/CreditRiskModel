{
 "cells": [
  {
   "cell_type": "markdown",
   "metadata": {},
   "source": [
    "## Imports"
   ]
  },
  {
   "cell_type": "code",
   "execution_count": 164,
   "metadata": {},
   "outputs": [],
   "source": [
    "#import necessary modules\n",
    "import pandas as pd\n",
    "import numpy as np\n",
    "import xgboost as xgb\n",
    "from xgboost import XGBClassifier\n",
    "from xgboost import plot_importance\n",
    "from sklearn.metrics import roc_auc_score,confusion_matrix,roc_curve\n",
    "from sklearn.ensemble import GradientBoostingClassifier,VotingClassifier\n",
    "from sklearn.metrics import accuracy_score\n",
    "from matplotlib import pyplot\n",
    "from sklearn.feature_selection import SelectFromModel\n",
    "import seaborn as sns\n",
    "%matplotlib inline"
   ]
  },
  {
   "cell_type": "markdown",
   "metadata": {},
   "source": [
    "## Read the processed Files and Raw Data\n",
    "\n",
    "Reading the processed files for Enquiry and Account. The Raw Data files are imported as is. "
   ]
  },
  {
   "cell_type": "code",
   "execution_count": 99,
   "metadata": {
    "collapsed": true
   },
   "outputs": [],
   "source": [
    "#reading the train and test files\n",
    "raw_train = pd.read_csv(r'/Users/varsha/Downloads/test data/raw_data_70_new.csv',low_memory=False)\n",
    "raw_test = pd.read_csv(r'/Users/varsha/Downloads/test data/raw_data_30_new.csv',low_memory=False)\n",
    "#reading the cleaned enquiry file\n",
    "enq_train = pd.read_csv('/Users/varsha/Downloads/test data/trainEnquiry.csv')\n",
    "enq_test = pd.read_csv('/Users/varsha/Downloads/test data/testEnquiry.csv')\n",
    "#reading the cleaned enquiry file\n",
    "acc_train = pd.read_csv('/Users/varsha/Downloads/test data/trainAccount.csv')\n",
    "acc_test = pd.read_csv('/Users/varsha/Downloads/test data/testAccount.csv')\n",
    "\n"
   ]
  },
  {
   "cell_type": "code",
   "execution_count": 100,
   "metadata": {
    "collapsed": true
   },
   "outputs": [],
   "source": [
    "#list of columns selected\n",
    "col_list = ['customer_no', 'feature_20', 'feature_11', 'Bad_label']\n",
    "raw_train = raw_train[col_list]\n",
    "raw_test = raw_test[col_list]"
   ]
  },
  {
   "cell_type": "code",
   "execution_count": 101,
   "metadata": {},
   "outputs": [],
   "source": [
    "#Rename the columns \n",
    "raw_train.rename(columns={'feature_20': 'cibil_score', 'feature_11': 'marital_status'}, inplace=True)\n",
    "raw_test.rename(columns={'feature_20': 'cibil_score', 'feature_11': 'marital_status'}, inplace=True)\n",
    "col_list = ['customer_no', 'cibil_score', 'marital_status', 'Bad_label']"
   ]
  },
  {
   "cell_type": "code",
   "execution_count": 102,
   "metadata": {},
   "outputs": [],
   "source": [
    "#merge all the data sets to create the train and test sets\n",
    "train = pd.merge(raw_train,enq_train,on='customer_no', how='inner')\n",
    "test  = pd.merge(raw_test,enq_test,on='customer_no', how='inner')\n",
    "train = pd.merge(train,acc_train,on='customer_no',how='inner')\n",
    "test = pd.merge(test,acc_test,on='customer_no',how='inner')\n"
   ]
  },
  {
   "cell_type": "code",
   "execution_count": 103,
   "metadata": {},
   "outputs": [
    {
     "name": "stdout",
     "output_type": "stream",
     "text": [
      "<class 'pandas.core.frame.DataFrame'>\n",
      "Int64Index: 23896 entries, 0 to 23895\n",
      "Data columns (total 19 columns):\n",
      "customer_no           23896 non-null int64\n",
      "cibil_score           23896 non-null object\n",
      "marital_status        23881 non-null object\n",
      "Bad_label             23896 non-null int64\n",
      "365_days              23896 non-null float64\n",
      "90_days               23896 non-null float64\n",
      "openDays              23896 non-null float64\n",
      "enq_amt               23787 non-null float64\n",
      "cashlimit             23896 non-null float64\n",
      "total_creditlimit     23896 non-null float64\n",
      "total_currentlimit    23896 non-null int64\n",
      "mean_creditlimit      23896 non-null float64\n",
      "mean_currentlimit     23896 non-null float64\n",
      "mean_Days             23896 non-null float64\n",
      "total_Days            23896 non-null float64\n",
      "monthlength           23896 non-null float64\n",
      "paymentBoolean        23896 non-null float64\n",
      "least_30dpd           23896 non-null float64\n",
      "max_30dpd             23896 non-null float64\n",
      "dtypes: float64(14), int64(3), object(2)\n",
      "memory usage: 3.6+ MB\n"
     ]
    }
   ],
   "source": [
    "train.info()"
   ]
  },
  {
   "cell_type": "code",
   "execution_count": 106,
   "metadata": {},
   "outputs": [],
   "source": [
    "#get the dummies for train and test data\n",
    "train['cibil_score']=pd.get_dummies(train['cibil_score'],drop_first=True)\n",
    "train['marital_status']=pd.get_dummies(train['marital_status'],drop_first=True)\n",
    "test['cibil_score']=pd.get_dummies(test['cibil_score'],drop_first=True)\n",
    "test['marital_status']=pd.get_dummies(test['marital_status'],drop_first=True)"
   ]
  },
  {
   "cell_type": "code",
   "execution_count": 108,
   "metadata": {},
   "outputs": [
    {
     "name": "stdout",
     "output_type": "stream",
     "text": [
      "<class 'pandas.core.frame.DataFrame'>\n",
      "Int64Index: 23896 entries, 0 to 23895\n",
      "Data columns (total 19 columns):\n",
      "customer_no           23896 non-null int64\n",
      "cibil_score           23896 non-null uint8\n",
      "marital_status        23896 non-null uint8\n",
      "Bad_label             23896 non-null int64\n",
      "365_days              23896 non-null float64\n",
      "90_days               23896 non-null float64\n",
      "openDays              23896 non-null float64\n",
      "enq_amt               23787 non-null float64\n",
      "cashlimit             23896 non-null float64\n",
      "total_creditlimit     23896 non-null float64\n",
      "total_currentlimit    23896 non-null int64\n",
      "mean_creditlimit      23896 non-null float64\n",
      "mean_currentlimit     23896 non-null float64\n",
      "mean_Days             23896 non-null float64\n",
      "total_Days            23896 non-null float64\n",
      "monthlength           23896 non-null float64\n",
      "paymentBoolean        23896 non-null float64\n",
      "least_30dpd           23896 non-null float64\n",
      "max_30dpd             23896 non-null float64\n",
      "dtypes: float64(14), int64(3), uint8(2)\n",
      "memory usage: 3.3 MB\n"
     ]
    }
   ],
   "source": [
    "train.info()"
   ]
  },
  {
   "cell_type": "markdown",
   "metadata": {},
   "source": [
    "Merging the Train and Test Files"
   ]
  },
  {
   "cell_type": "code",
   "execution_count": 109,
   "metadata": {
    "collapsed": true
   },
   "outputs": [],
   "source": [
    "#concat train and test\n",
    "df = pd.concat([train,test]).reset_index(drop=True)"
   ]
  },
  {
   "cell_type": "code",
   "execution_count": 61,
   "metadata": {
    "scrolled": true
   },
   "outputs": [],
   "source": [
    "#fill the missing columns\n",
    "df['cibil_score'] = df['cibil_score'].fillna(0)\n",
    "df['marital_status'] = df['marital_status'].fillna(2)"
   ]
  },
  {
   "cell_type": "code",
   "execution_count": 111,
   "metadata": {
    "collapsed": true
   },
   "outputs": [],
   "source": [
    "# features for training\n",
    "df_col = ['365_days','90_days','openDays','mean_Days','total_Days','monthlength','paymentBoolean','least_30dpd','max_30dpd'] + Col_list\n",
    "df = df[df_col]"
   ]
  },
  {
   "cell_type": "code",
   "execution_count": 113,
   "metadata": {
    "collapsed": true
   },
   "outputs": [],
   "source": [
    "# split the train and test\n",
    "df_train = df[0:len(train)]\n",
    "df_test = df[len(train):len(df)]"
   ]
  },
  {
   "cell_type": "code",
   "execution_count": 114,
   "metadata": {},
   "outputs": [],
   "source": [
    "#predict column for training and testing data\n",
    "trainPredicted = df_train['Bad_label']\n",
    "testPredicted =df_test['Bad_label']\n"
   ]
  },
  {
   "cell_type": "code",
   "execution_count": 116,
   "metadata": {},
   "outputs": [
    {
     "data": {
      "text/plain": [
       "0    0\n",
       "1    0\n",
       "2    0\n",
       "3    0\n",
       "4    0\n",
       "5    0\n",
       "6    0\n",
       "7    0\n",
       "8    1\n",
       "9    0\n",
       "Name: Bad_label, dtype: int64"
      ]
     },
     "execution_count": 116,
     "metadata": {},
     "output_type": "execute_result"
    }
   ],
   "source": [
    "trainPredicted.head(10)"
   ]
  },
  {
   "cell_type": "code",
   "execution_count": 117,
   "metadata": {
    "collapsed": true
   },
   "outputs": [],
   "source": [
    "# removing column for creation of features for training  and testing\n",
    "df_train = df_train[df_train.columns.difference(['customer_no', 'Bad_label'])]\n",
    "df_test = df_test[df_test.columns.difference(['customer_no', 'Bad_label'])]"
   ]
  },
  {
   "cell_type": "code",
   "execution_count": 118,
   "metadata": {},
   "outputs": [
    {
     "name": "stdout",
     "output_type": "stream",
     "text": [
      "<class 'pandas.core.frame.DataFrame'>\n",
      "RangeIndex: 23896 entries, 0 to 23895\n",
      "Data columns (total 11 columns):\n",
      "365_days          23896 non-null float64\n",
      "90_days           23896 non-null float64\n",
      "cibil_score       23896 non-null uint8\n",
      "least_30dpd       23896 non-null float64\n",
      "marital_status    23896 non-null uint8\n",
      "max_30dpd         23896 non-null float64\n",
      "mean_Days         23896 non-null float64\n",
      "monthlength       23896 non-null float64\n",
      "openDays          23896 non-null float64\n",
      "paymentBoolean    23896 non-null float64\n",
      "total_Days        23896 non-null float64\n",
      "dtypes: float64(9), uint8(2)\n",
      "memory usage: 1.7 MB\n"
     ]
    }
   ],
   "source": [
    "df_train.info()"
   ]
  },
  {
   "cell_type": "code",
   "execution_count": 119,
   "metadata": {},
   "outputs": [
    {
     "name": "stdout",
     "output_type": "stream",
     "text": [
      "<class 'pandas.core.frame.DataFrame'>\n",
      "RangeIndex: 10240 entries, 23896 to 34135\n",
      "Data columns (total 11 columns):\n",
      "365_days          10240 non-null float64\n",
      "90_days           10240 non-null float64\n",
      "cibil_score       10240 non-null uint8\n",
      "least_30dpd       10240 non-null float64\n",
      "marital_status    10240 non-null uint8\n",
      "max_30dpd         10240 non-null float64\n",
      "mean_Days         10240 non-null float64\n",
      "monthlength       10240 non-null float64\n",
      "openDays          10240 non-null float64\n",
      "paymentBoolean    10240 non-null float64\n",
      "total_Days        10240 non-null float64\n",
      "dtypes: float64(9), uint8(2)\n",
      "memory usage: 740.1 KB\n"
     ]
    }
   ],
   "source": [
    "df_test.info()"
   ]
  },
  {
   "cell_type": "code",
   "execution_count": 126,
   "metadata": {},
   "outputs": [
    {
     "data": {
      "text/plain": [
       "GradientBoostingClassifier(criterion='friedman_mse', init=None,\n",
       "              learning_rate=0.01, loss='deviance', max_depth=3,\n",
       "              max_features=None, max_leaf_nodes=None,\n",
       "              min_impurity_split=1e-07, min_samples_leaf=1,\n",
       "              min_samples_split=2, min_weight_fraction_leaf=0.0,\n",
       "              n_estimators=100, presort='auto', random_state=None,\n",
       "              subsample=1.0, verbose=0, warm_start=False)"
      ]
     },
     "execution_count": 126,
     "metadata": {},
     "output_type": "execute_result"
    }
   ],
   "source": [
    "# initialize the models for Gradient Boosting Classifier\n",
    "model = GradientBoostingClassifier(learning_rate=0.01)\n",
    "model.fit(df_train,trainPredicted)"
   ]
  },
  {
   "cell_type": "code",
   "execution_count": 127,
   "metadata": {},
   "outputs": [],
   "source": [
    "# predicting of model\n",
    "predicted = model.predict(df_test)\n",
    "# proba of model\n",
    "proba = model.predict_proba(df_test)"
   ]
  },
  {
   "cell_type": "code",
   "execution_count": 167,
   "metadata": {},
   "outputs": [
    {
     "name": "stdout",
     "output_type": "stream",
     "text": [
      "[ 0.12598499  0.18333843  0.          0.05486827  0.          0.08278029\n",
      "  0.06325037  0.0402183   0.16069238  0.04343431  0.24543264]\n"
     ]
    },
    {
     "data": {
      "image/png": "[encoded data removed]",
      "text/plain": [
       "<matplotlib.figure.Figure at 0x11ec3b278>"
      ]
     },
     "metadata": {},
     "output_type": "display_data"
    }
   ],
   "source": [
    "print(model.feature_importances_)\n",
    "pyplot.bar(range(len(model.feature_importances_)), model.feature_importances_)\n",
    "pyplot.show()"
   ]
  },
  {
   "cell_type": "code",
   "execution_count": 129,
   "metadata": {},
   "outputs": [
    {
     "name": "stdout",
     "output_type": "stream",
     "text": [
      "Accuracy: 95.49%\n"
     ]
    }
   ],
   "source": [
    "#accuracy of the model\n",
    "predictions = [round(value) for value in predicted]\n",
    "accuracy = accuracy_score(testPredicted, predictions)\n",
    "print(\"Accuracy: %.2f%%\" % (accuracy * 100.0))"
   ]
  },
  {
   "cell_type": "code",
   "execution_count": 160,
   "metadata": {},
   "outputs": [
    {
     "data": {
      "text/plain": [
       "array([[9778,    0],\n",
       "       [ 462,    0]])"
      ]
     },
     "execution_count": 160,
     "metadata": {},
     "output_type": "execute_result"
    }
   ],
   "source": [
    "# calculate the confusion matrix\n",
    "confusion_matrix(testPredicted,predicted)\n"
   ]
  },
  {
   "cell_type": "code",
   "execution_count": 131,
   "metadata": {
    "scrolled": true
   },
   "outputs": [
    {
     "data": {
      "text/plain": [
       "0.24641965043887737"
      ]
     },
     "execution_count": 131,
     "metadata": {},
     "output_type": "execute_result"
    }
   ],
   "source": [
    " # rocscore calculation\n",
    "2*(roc_auc_score(testPredicted, proba[:, 1])) -1"
   ]
  },
  {
   "cell_type": "code",
   "execution_count": 132,
   "metadata": {
    "collapsed": true
   },
   "outputs": [],
   "source": [
    "#rank ordering \n",
    "proba0 = proba[:, 0]\n",
    "proba1 = proba[:, 1]\n",
    "proba0 = sorted(proba0, reverse=True)\n",
    "proba1 = sorted(proba1, reverse=True)\n",
    "final0 = np.percentile(proba0, np.arange(0, 100, 10))\n",
    "final1 = np.percentile(proba1, np.arange(0, 100, 10))"
   ]
  },
  {
   "cell_type": "code",
   "execution_count": 133,
   "metadata": {},
   "outputs": [
    {
     "name": "stdout",
     "output_type": "stream",
     "text": [
      "[ 0.818684    0.97514274  0.98381525  0.99251904  0.99537651  1.\n",
      "  1.00462349  1.00748096  1.01618475  1.02485726]\n"
     ]
    }
   ],
   "source": [
    "total = final1 + final0\n",
    "print (total)\n"
   ]
  },
  {
   "cell_type": "code",
   "execution_count": null,
   "metadata": {
    "collapsed": true
   },
   "outputs": [],
   "source": [
    "#TODO Plot RANK Ordering"
   ]
  },
  {
   "cell_type": "code",
   "execution_count": 135,
   "metadata": {
    "scrolled": true
   },
   "outputs": [
    {
     "name": "stdout",
     "output_type": "stream",
     "text": [
      "XGBClassifier(base_score=0.5, colsample_bylevel=1, colsample_bytree=1,\n",
      "       gamma=0, learning_rate=0.01, max_delta_step=0, max_depth=3,\n",
      "       min_child_weight=1, missing=None, n_estimators=100, nthread=-1,\n",
      "       objective='binary:logistic', reg_alpha=0, reg_lambda=1,\n",
      "       scale_pos_weight=1, seed=0, silent=True, subsample=1)\n",
      "Accuracy: 95.49%\n"
     ]
    }
   ],
   "source": [
    "model2 = XGBClassifier(learning_rate=0.01)\n",
    "model2.fit(df_train, trainPredicted)\n",
    "print(model2)\n",
    "predicted_2 = model2.predict(df_test)\n",
    "predictions_2 = [round(value) for value in predicted_2]\n",
    "accuracy = accuracy_score(testPredicted, predictions_2)\n",
    "print(\"Accuracy: %.2f%%\" % (accuracy * 100.0))"
   ]
  },
  {
   "cell_type": "code",
   "execution_count": 144,
   "metadata": {},
   "outputs": [
    {
     "data": {
      "image/png": "[encoded data removed]",
      "text/plain": [
       "<matplotlib.figure.Figure at 0x11ed4d0b8>"
      ]
     },
     "metadata": {},
     "output_type": "display_data"
    }
   ],
   "source": [
    "#Feature Importance Plot\n",
    "plot_importance(model2)\n",
    "pyplot.show()"
   ]
  }
 ],
 "metadata": {
  "kernelspec": {
   "display_name": "Python 3",
   "language": "python",
   "name": "python3"
  },
  "language_info": {
   "codemirror_mode": {
    "name": "ipython",
    "version": 3
   },
   "file_extension": ".py",
   "mimetype": "text/x-python",
   "name": "python",
   "nbconvert_exporter": "python",
   "pygments_lexer": "ipython3",
   "version": "3.6.1"
  }
 },
 "nbformat": 4,
 "nbformat_minor": 2
}
